{
 "cells": [
  {
   "cell_type": "code",
   "execution_count": null,
   "metadata": {},
   "outputs": [],
   "source": [
    "#Bot para criar exercícios do Curso em Video que fiz com a ajuda do Lira da Hashtag"
   ]
  },
  {
   "cell_type": "code",
   "execution_count": null,
   "metadata": {},
   "outputs": [],
   "source": [
    "import pyautogui\n",
    "import time\n",
    "\n",
    "#abrir pycharm\n",
    "#pyautogui.click(button = 'right', x=851, y=1040)  \n",
    "\n",
    "#as confi. do X e Y varia de acordo com a tela do pc de cada um....\n",
    "\n",
    "#time.sleep(2)\n",
    "#pyautogui.click(button = 'left', x=852, y=811)\n",
    "#time.sleep(2)\n",
    "\n",
    "#esperar carregar\n",
    "#time.sleep(12)\n",
    "\n",
    "#mudar para o pycharm\n",
    "pyautogui.click(button = 'left', x=906, y=1058)\n",
    "time.sleep(1)\n",
    "pyautogui.click(button = 'left', x=752, y=931)\n",
    "time.sleep(1)\n",
    "\n",
    "#criar o exercicio\n",
    "pyautogui.click(button = 'right', x=157, y=185)\n",
    "time.sleep(1)\n",
    "pyautogui.click(button = 'left', x=382, y=208)\n",
    "time.sleep(1)\n",
    "pyautogui.click(button = 'left', x=711, y=374)\n",
    "time.sleep(1)\n",
    "pyautogui.write('ex0')"
   ]
  }
 ],
 "metadata": {
  "kernelspec": {
   "display_name": "Python 3.10.4 ('venv': venv)",
   "language": "python",
   "name": "python3"
  },
  "language_info": {
   "name": "python",
   "version": "3.10.4"
  },
  "orig_nbformat": 4,
  "vscode": {
   "interpreter": {
    "hash": "388e30056f2d1dca5a02932e41b8eda1418c9047c4a971488c77482349c80ade"
   }
  }
 },
 "nbformat": 4,
 "nbformat_minor": 2
}
